{
 "cells": [
  {
   "cell_type": "code",
   "execution_count": 1,
   "metadata": {},
   "outputs": [],
   "source": [
    "import jdc"
   ]
  },
  {
   "cell_type": "markdown",
   "metadata": {},
   "source": [
    "\"Advantages over singly linked list (from Geeks for Geeks):\n",
    "\n",
    "1. A DLL can be traversed in both forward and backward direction\n",
    "2. The delete operation in DLL is more efficient if pointer to the node to be deleted is given.\n",
    "3. We can quickly insert a new node before a given node.\n",
    "\n",
    "\n",
    "In singly linked list, to delete a node, pointer to the previous node is needed. To get this previous node, sometimes the list is traversed. In DLL, we can get the previous node using previous pointer.\""
   ]
  },
  {
   "cell_type": "code",
   "execution_count": 2,
   "metadata": {},
   "outputs": [],
   "source": [
    "class Node(object):\n",
    "    def __init__(self, data=None, next=None, prev=None):\n",
    "        self.data = data  # data \n",
    "        self.next = next  # reference to next node\n",
    "        self.prev = prev  # reference to previous node"
   ]
  },
  {
   "cell_type": "code",
   "execution_count": 3,
   "metadata": {},
   "outputs": [],
   "source": [
    "n1 = Node(5)\n",
    "n2 = Node(7)"
   ]
  },
  {
   "cell_type": "code",
   "execution_count": 4,
   "metadata": {},
   "outputs": [],
   "source": [
    "n1.next_n = n2\n",
    "n2.prev_n = n1"
   ]
  },
  {
   "cell_type": "markdown",
   "metadata": {},
   "source": [
    "Insertion operations:\n",
    "\n",
    "1. At the front of the DLL\n",
    "2. After a given node.\n",
    "3. At the end of the DLL\n",
    "4. Before a given node."
   ]
  },
  {
   "cell_type": "code",
   "execution_count": 5,
   "metadata": {},
   "outputs": [],
   "source": [
    "class DblLinkList(object):\n",
    "    '''Initialize Double linked List object'''\n",
    "    def __init__(self, head=None, tail=None):\n",
    "        self.head = head\n",
    "        self.tail = tail"
   ]
  },
  {
   "cell_type": "code",
   "execution_count": 6,
   "metadata": {},
   "outputs": [],
   "source": [
    "dll = DblLinkList()"
   ]
  },
  {
   "cell_type": "code",
   "execution_count": 7,
   "metadata": {},
   "outputs": [],
   "source": [
    "%%add_to DblLinkList\n",
    "def is_empty(self):\n",
    "        # return T/F depending on whether the head of the linked list is null or not\n",
    "        return self.head is None\n",
    "    \n",
    "def get_length(self):\n",
    "    count = 0\n",
    "    if self.is_empty():\n",
    "        return 0\n",
    "    else:  # traverse the list\n",
    "        current = self.head\n",
    "        while current:\n",
    "            count += 1\n",
    "            current = current.next\n",
    "    return count\n"
   ]
  },
  {
   "cell_type": "code",
   "execution_count": 8,
   "metadata": {},
   "outputs": [],
   "source": [
    "%%add_to DblLinkList\n",
    "def print_list(self):\n",
    "    current = self.head\n",
    "    while current:\n",
    "        print(current.data)\n",
    "        current = current.next\n",
    "    return"
   ]
  },
  {
   "cell_type": "code",
   "execution_count": 9,
   "metadata": {},
   "outputs": [],
   "source": [
    "%%add_to DblLinkList\n",
    "def prepend(self, new_node):\n",
    "    if self.is_empty():\n",
    "        self.head = new_node\n",
    "        new_node.prev = None\n",
    "        new_node.next = None\n",
    "        self.tail = new_node\n",
    "        print('new head')\n",
    "    else:\n",
    "        new_node.next = self.head\n",
    "        new_node.prev = None\n",
    "        self.head = new_node\n",
    "        print('new node {} prepended'.format(new_node.data))"
   ]
  },
  {
   "cell_type": "code",
   "execution_count": 10,
   "metadata": {},
   "outputs": [],
   "source": [
    "n1 = Node(44)\n",
    "n2 = Node(54)\n",
    "n3 = Node(84)\n",
    "n4 = Node(40)\n",
    "n5 = Node(77)"
   ]
  },
  {
   "cell_type": "code",
   "execution_count": 11,
   "metadata": {},
   "outputs": [
    {
     "name": "stdout",
     "output_type": "stream",
     "text": [
      "new head\n",
      "new node 54 appended\n",
      "new node 84 appended\n",
      "new node 40 appended\n",
      "new node 77 appended\n"
     ]
    }
   ],
   "source": [
    "nodes = [n1, n2, n3, n4, n5]\n",
    "for node in nodes:\n",
    "    dll.prepend(node)"
   ]
  },
  {
   "cell_type": "code",
   "execution_count": 12,
   "metadata": {},
   "outputs": [
    {
     "data": {
      "text/plain": [
       "<__main__.Node at 0x10cee15c0>"
      ]
     },
     "execution_count": 12,
     "metadata": {},
     "output_type": "execute_result"
    }
   ],
   "source": [
    "dll.head"
   ]
  },
  {
   "cell_type": "code",
   "execution_count": 13,
   "metadata": {},
   "outputs": [],
   "source": [
    "n1.next"
   ]
  },
  {
   "cell_type": "code",
   "execution_count": 14,
   "metadata": {},
   "outputs": [
    {
     "data": {
      "text/plain": [
       "<__main__.Node at 0x10cee1518>"
      ]
     },
     "execution_count": 14,
     "metadata": {},
     "output_type": "execute_result"
    }
   ],
   "source": [
    "dll.tail"
   ]
  },
  {
   "cell_type": "code",
   "execution_count": 15,
   "metadata": {},
   "outputs": [
    {
     "data": {
      "text/plain": [
       "False"
      ]
     },
     "execution_count": 15,
     "metadata": {},
     "output_type": "execute_result"
    }
   ],
   "source": [
    "dll.is_empty()"
   ]
  },
  {
   "cell_type": "code",
   "execution_count": 18,
   "metadata": {},
   "outputs": [
    {
     "data": {
      "text/plain": [
       "5"
      ]
     },
     "execution_count": 18,
     "metadata": {},
     "output_type": "execute_result"
    }
   ],
   "source": [
    "dll.get_length()"
   ]
  },
  {
   "cell_type": "code",
   "execution_count": 19,
   "metadata": {},
   "outputs": [
    {
     "name": "stdout",
     "output_type": "stream",
     "text": [
      "77\n",
      "40\n",
      "84\n",
      "54\n",
      "44\n"
     ]
    }
   ],
   "source": [
    "dll.print_list()"
   ]
  },
  {
   "cell_type": "markdown",
   "metadata": {},
   "source": [
    "Given a node as the node to follow, create a new node with specified value into the dll\n",
    "\n",
    "1. check if node to follow(NTF) exists\n",
    "2. if exists:\n",
    "\n",
    "    a. create new node(NN) w/ specified value\n",
    "    \n",
    "    b. set NN's next to NTF's next\n",
    "    \n",
    "    c. set NN's previous to NTF\n",
    "    \n",
    "    d. set NTF next's previous to NN\n",
    "    \n",
    "    e. set NTF's next to NN"
   ]
  },
  {
   "cell_type": "code",
   "execution_count": 21,
   "metadata": {},
   "outputs": [],
   "source": [
    "%%add_to DblLinkList\n",
    "def add_after(self, node_to_follow, new_data):\n",
    "    if node_to_follow is None:\n",
    "        print ('this list does not contain the node provided')\n",
    "        return\n",
    "    n = Node(new_data) # a\n",
    "    n.next = node_to_follow.next # b\n",
    "    n.prev = node_to_follow # c\n",
    "    node_to_follow.next.prev = n # d\n",
    "    node_to_follow.next = n"
   ]
  },
  {
   "cell_type": "code",
   "execution_count": 22,
   "metadata": {},
   "outputs": [],
   "source": [
    "dll.add_after(n2, 9999)"
   ]
  },
  {
   "cell_type": "code",
   "execution_count": 23,
   "metadata": {},
   "outputs": [
    {
     "name": "stdout",
     "output_type": "stream",
     "text": [
      "77\n",
      "40\n",
      "84\n",
      "54\n",
      "9999\n",
      "44\n"
     ]
    }
   ],
   "source": [
    "dll.print_list()"
   ]
  },
  {
   "cell_type": "code",
   "execution_count": null,
   "metadata": {},
   "outputs": [],
   "source": []
  }
 ],
 "metadata": {
  "kernelspec": {
   "display_name": "Python 3",
   "language": "python",
   "name": "python3"
  },
  "language_info": {
   "codemirror_mode": {
    "name": "ipython",
    "version": 3
   },
   "file_extension": ".py",
   "mimetype": "text/x-python",
   "name": "python",
   "nbconvert_exporter": "python",
   "pygments_lexer": "ipython3",
   "version": "3.6.8"
  }
 },
 "nbformat": 4,
 "nbformat_minor": 2
}
