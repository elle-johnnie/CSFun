{
 "cells": [
  {
   "cell_type": "markdown",
   "metadata": {},
   "source": [
    "# LinkedList"
   ]
  },
  {
   "cell_type": "code",
   "execution_count": 17,
   "metadata": {},
   "outputs": [],
   "source": [
    "class Node(object):\n",
    "    def __init__(self, data=None, next_node=None):\n",
    "        \"\"\"Initialize with a single datum and set pointer to next node\n",
    "        if no next node then point to none (null)\"\"\"\n",
    "        self.data = data\n",
    "        self.next = next_node\n",
    "        \n",
    "    def get_data(self):\n",
    "        \"\"\"get value of current node\"\"\"\n",
    "        return self.data\n",
    "    \n",
    "    def get_next(self):\n",
    "        \"\"\"get current node's pointer to next \"\"\"\n",
    "        return self.next\n",
    "    \n",
    "    def set_data(self, new_data):\n",
    "        self.data = new_data\n",
    "        \n",
    "    def set_next(self, new_next):\n",
    "        \"\"\"set the next pointer to add the next node\"\"\"\n",
    "        self.next = new_next"
   ]
  },
  {
   "cell_type": "markdown",
   "metadata": {},
   "source": [
    "Create a new node instance "
   ]
  },
  {
   "cell_type": "code",
   "execution_count": 18,
   "metadata": {},
   "outputs": [],
   "source": [
    "x = Node(4)"
   ]
  },
  {
   "cell_type": "code",
   "execution_count": 19,
   "metadata": {},
   "outputs": [
    {
     "data": {
      "text/plain": [
       "4"
      ]
     },
     "execution_count": 19,
     "metadata": {},
     "output_type": "execute_result"
    }
   ],
   "source": [
    "x.get_data()"
   ]
  },
  {
   "cell_type": "code",
   "execution_count": 20,
   "metadata": {
    "scrolled": true
   },
   "outputs": [],
   "source": [
    "x.set_data(45)"
   ]
  },
  {
   "cell_type": "code",
   "execution_count": 21,
   "metadata": {},
   "outputs": [
    {
     "data": {
      "text/plain": [
       "45"
      ]
     },
     "execution_count": 21,
     "metadata": {},
     "output_type": "execute_result"
    }
   ],
   "source": [
    "x.get_data()"
   ]
  },
  {
   "cell_type": "markdown",
   "metadata": {},
   "source": [
    "Create another node "
   ]
  },
  {
   "cell_type": "code",
   "execution_count": 22,
   "metadata": {},
   "outputs": [],
   "source": [
    "x2 = Node(25)"
   ]
  },
  {
   "cell_type": "code",
   "execution_count": 23,
   "metadata": {},
   "outputs": [
    {
     "data": {
      "text/plain": [
       "25"
      ]
     },
     "execution_count": 23,
     "metadata": {},
     "output_type": "execute_result"
    }
   ],
   "source": [
    "x2.get_data()"
   ]
  },
  {
   "cell_type": "code",
   "execution_count": 24,
   "metadata": {},
   "outputs": [],
   "source": [
    "x.set_next(x2)"
   ]
  },
  {
   "cell_type": "code",
   "execution_count": 25,
   "metadata": {},
   "outputs": [],
   "source": [
    "x_next_node = x.get_next()"
   ]
  },
  {
   "cell_type": "code",
   "execution_count": 26,
   "metadata": {},
   "outputs": [
    {
     "data": {
      "text/plain": [
       "25"
      ]
     },
     "execution_count": 26,
     "metadata": {},
     "output_type": "execute_result"
    }
   ],
   "source": [
    "x_next_node.get_data()"
   ]
  },
  {
   "cell_type": "code",
   "execution_count": 58,
   "metadata": {},
   "outputs": [],
   "source": [
    "class LinkedList(object):\n",
    "    \"\"\"Initialize the LinkedList 'head' has no nodes when initialized\n",
    "    so default head to None (null)\"\"\"\n",
    "    def __init__(self, head=None):\n",
    "        self.head = head\n",
    "        \n",
    "    def is_empty(self):\n",
    "        # return T/F depending on whether the head of the linked list is null or not\n",
    "        return self.head is None\n",
    "  \n",
    "    def append_data(self, val_to_append):\n",
    "        # check to see if LinkedList is None\n",
    "        if self.is_empty():\n",
    "            # create 1st node with value\n",
    "            new_node = Node(val_to_append)\n",
    "            # designate the newly created node as the head\n",
    "            self.head = new_node\n",
    "        else:  # traverse the list\n",
    "            current = self.head\n",
    "            # keep traversing list until the current node points to None, indicating end of linked list\n",
    "            while current.get_next() is not None:\n",
    "                current = current.get_next()\n",
    "            # once next is None, create the new node\n",
    "            add_node = Node(val_to_append)\n",
    "            # set the pointer on the current\n",
    "            current.next = add_node\n",
    "            \n",
    "    def prepend_data(self, val_to_prepend):\n",
    "        # create a new node object with provided value\n",
    "        new_node = Node(val_to_prepend)\n",
    "        # the new_node default next is None/null so set this node's next (pointer)\n",
    "        # to current LinkedList object's head\n",
    "        new_node.set_next(self.head)\n",
    "        # reset the head of the LinkedList object to the node just created\n",
    "        self.head = new_node\n",
    "        \n",
    "    def remove_node(self, val_to_remove):\n",
    "        if self.is_empty():\n",
    "            # handle an empty list\n",
    "            return \"the LinkedList is empty\"\n",
    "        else:  # traverse the list until the value is found\n",
    "            current = self.head\n",
    "            previous = None\n",
    "            while current.get_data() is not val_to_remove:\n",
    "                previous = current\n",
    "                current = current.get_next()\n",
    "                # handle the case that the value is not in the list\n",
    "                if current is None:\n",
    "                    return \"the value is not in the linkedlist\"\n",
    "            # when value is found set the previous node's pointer to the\n",
    "            # current node's next\n",
    "            previous.set_next(current.get_next())\n",
    "            \n",
    "    def print_values(self):\n",
    "        result = []\n",
    "        if self.is_empty():\n",
    "            result = \"The Linked List is empty.\"\n",
    "        else:  # traverse the list\n",
    "            current = self.head\n",
    "            while current:\n",
    "                temp = current.get_data()\n",
    "                result.append(temp)\n",
    "                current = current.get_next()\n",
    "\n",
    "        return result\n",
    "    "
   ]
  },
  {
   "cell_type": "code",
   "execution_count": 59,
   "metadata": {},
   "outputs": [],
   "source": [
    "new_list = LinkedList()"
   ]
  },
  {
   "cell_type": "code",
   "execution_count": 60,
   "metadata": {},
   "outputs": [
    {
     "name": "stdout",
     "output_type": "stream",
     "text": [
      "True\n"
     ]
    }
   ],
   "source": [
    "print(new_list.is_empty())"
   ]
  },
  {
   "cell_type": "code",
   "execution_count": 61,
   "metadata": {},
   "outputs": [],
   "source": [
    "new_list.append_data(5)\n",
    "new_list.append_data(67)\n",
    "new_list.append_data(2)\n",
    "new_list.append_data(4)"
   ]
  },
  {
   "cell_type": "code",
   "execution_count": 62,
   "metadata": {},
   "outputs": [
    {
     "name": "stdout",
     "output_type": "stream",
     "text": [
      "False\n"
     ]
    }
   ],
   "source": [
    "print(new_list.is_empty())"
   ]
  },
  {
   "cell_type": "code",
   "execution_count": 63,
   "metadata": {},
   "outputs": [],
   "source": [
    "list = new_list.print_values()"
   ]
  },
  {
   "cell_type": "code",
   "execution_count": 64,
   "metadata": {},
   "outputs": [
    {
     "name": "stdout",
     "output_type": "stream",
     "text": [
      "[5, 67, 2, 4]\n"
     ]
    }
   ],
   "source": [
    "print (list)"
   ]
  },
  {
   "cell_type": "code",
   "execution_count": 65,
   "metadata": {},
   "outputs": [],
   "source": [
    "new_list.prepend_data(99)"
   ]
  },
  {
   "cell_type": "code",
   "execution_count": 66,
   "metadata": {},
   "outputs": [
    {
     "name": "stdout",
     "output_type": "stream",
     "text": [
      "[99, 5, 67, 2, 4]\n"
     ]
    }
   ],
   "source": [
    "print(new_list.print_values())"
   ]
  },
  {
   "cell_type": "code",
   "execution_count": 67,
   "metadata": {},
   "outputs": [],
   "source": [
    "new_list.append_data(77)"
   ]
  },
  {
   "cell_type": "code",
   "execution_count": 68,
   "metadata": {},
   "outputs": [
    {
     "name": "stdout",
     "output_type": "stream",
     "text": [
      "[99, 5, 67, 2, 4, 77]\n"
     ]
    }
   ],
   "source": [
    "print(new_list.print_values())"
   ]
  },
  {
   "cell_type": "code",
   "execution_count": 69,
   "metadata": {},
   "outputs": [],
   "source": [
    "new_list.remove_node(2)"
   ]
  },
  {
   "cell_type": "code",
   "execution_count": 70,
   "metadata": {},
   "outputs": [
    {
     "name": "stdout",
     "output_type": "stream",
     "text": [
      "[99, 5, 67, 4, 77]\n"
     ]
    }
   ],
   "source": [
    "print(new_list.print_values())"
   ]
  },
  {
   "cell_type": "code",
   "execution_count": 74,
   "metadata": {},
   "outputs": [
    {
     "data": {
      "text/plain": [
       "'the value is not in the linkedlist'"
      ]
     },
     "execution_count": 74,
     "metadata": {},
     "output_type": "execute_result"
    }
   ],
   "source": [
    "new_list.remove_node(9999)"
   ]
  },
  {
   "cell_type": "code",
   "execution_count": 71,
   "metadata": {},
   "outputs": [],
   "source": [
    "new_list2 = LinkedList()"
   ]
  },
  {
   "cell_type": "code",
   "execution_count": 72,
   "metadata": {},
   "outputs": [
    {
     "name": "stdout",
     "output_type": "stream",
     "text": [
      "The Linked List is empty.\n"
     ]
    }
   ],
   "source": [
    "print (new_list2.print_values())\n",
    "    \n",
    "    "
   ]
  },
  {
   "cell_type": "code",
   "execution_count": 73,
   "metadata": {},
   "outputs": [
    {
     "data": {
      "text/plain": [
       "'the LinkedList is empty'"
      ]
     },
     "execution_count": 73,
     "metadata": {},
     "output_type": "execute_result"
    }
   ],
   "source": [
    "new_list2.remove_node(333)"
   ]
  },
  {
   "cell_type": "code",
   "execution_count": null,
   "metadata": {},
   "outputs": [],
   "source": []
  }
 ],
 "metadata": {
  "kernelspec": {
   "display_name": "Python 3",
   "language": "python",
   "name": "python3"
  },
  "language_info": {
   "codemirror_mode": {
    "name": "ipython",
    "version": 3
   },
   "file_extension": ".py",
   "mimetype": "text/x-python",
   "name": "python",
   "nbconvert_exporter": "python",
   "pygments_lexer": "ipython3",
   "version": "3.7.1"
  }
 },
 "nbformat": 4,
 "nbformat_minor": 2
}
