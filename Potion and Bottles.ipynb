{
 "cells": [
  {
   "cell_type": "markdown",
   "metadata": {},
   "source": [
    " A function takes two input parameters: potion size and array of bottle sizes. You may assume that you have an unlimited amount of bottles of each size. The function should return the minimum possible waste value for\n",
    "the given potion size."
   ]
  },
  {
   "cell_type": "code",
   "execution_count": 5,
   "metadata": {},
   "outputs": [],
   "source": [
    "def get_min_waste(potion, bottle_arr):\n",
    "    # instantiate empty array to store all amounts of waste\n",
    "    waste_arr = []\n",
    "    print(potion)\n",
    "    print(bottle_arr)\n",
    "    \n",
    "    # recursively add bottle qty to itself until \n",
    "    def get_waste(potion, btl_qty):\n",
    "        print ('potion', potion)\n",
    "        if potion <= btl_qty:\n",
    "            waste = btl_qty - potion\n",
    "            waste_arr.append(waste)\n",
    "        else:\n",
    "             return get_waste(potion - btl_qty, btl_qty)\n",
    "    \n",
    "    # iterate through each bottle size in the array to determine waste if each bottle is only combined with itself\n",
    "    for btl_size in bottle_arr:\n",
    "        print('bottle size', btl_size)\n",
    "        get_waste(potion, btl_size)\n",
    "        print(waste_arr)\n",
    "        \n",
    "    return min(waste_arr)\n",
    "    \n",
    "    \n",
    "    "
   ]
  },
  {
   "cell_type": "code",
   "execution_count": 7,
   "metadata": {},
   "outputs": [
    {
     "name": "stdout",
     "output_type": "stream",
     "text": [
      "200\n",
      "[20, 30, 100]\n",
      "bottle size 20\n",
      "potion 200\n",
      "potion 180\n",
      "potion 160\n",
      "potion 140\n",
      "potion 120\n",
      "potion 100\n",
      "potion 80\n",
      "potion 60\n",
      "potion 40\n",
      "potion 20\n",
      "[0]\n",
      "bottle size 30\n",
      "potion 200\n",
      "potion 170\n",
      "potion 140\n",
      "potion 110\n",
      "potion 80\n",
      "potion 50\n",
      "potion 20\n",
      "[0, 10]\n",
      "bottle size 100\n",
      "potion 200\n",
      "potion 100\n",
      "[0, 10, 0]\n"
     ]
    },
    {
     "data": {
      "text/plain": [
       "0"
      ]
     },
     "execution_count": 7,
     "metadata": {},
     "output_type": "execute_result"
    }
   ],
   "source": [
    "get_min_waste(200, [20, 30, 100])\n"
   ]
  },
  {
   "cell_type": "code",
   "execution_count": null,
   "metadata": {},
   "outputs": [],
   "source": []
  },
  {
   "cell_type": "code",
   "execution_count": null,
   "metadata": {},
   "outputs": [],
   "source": []
  },
  {
   "cell_type": "code",
   "execution_count": null,
   "metadata": {},
   "outputs": [],
   "source": []
  }
 ],
 "metadata": {
  "kernelspec": {
   "display_name": "Python 3",
   "language": "python",
   "name": "python3"
  },
  "language_info": {
   "codemirror_mode": {
    "name": "ipython",
    "version": 3
   },
   "file_extension": ".py",
   "mimetype": "text/x-python",
   "name": "python",
   "nbconvert_exporter": "python",
   "pygments_lexer": "ipython3",
   "version": "3.7.1"
  }
 },
 "nbformat": 4,
 "nbformat_minor": 2
}
