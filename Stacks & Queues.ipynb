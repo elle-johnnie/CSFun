{
 "cells": [
  {
   "cell_type": "markdown",
   "metadata": {},
   "source": [
    "## Stack LIFO"
   ]
  },
  {
   "cell_type": "markdown",
   "metadata": {},
   "source": [
    "Stack can be implemented using array or **linked list**\n",
    "push(add element to front of list) and pop methods(pop item from end of list)\n",
    "LIFO "
   ]
  },
  {
   "cell_type": "code",
   "execution_count": 25,
   "metadata": {},
   "outputs": [],
   "source": [
    "class Stack:\n",
    "    def __init__(self):\n",
    "        # this could be initialized as an array or a linked list\n",
    "        # provide a size:\n",
    "        self.LIMIT = 4\n",
    "        # array approach:\n",
    "        self.items = []\n",
    "        self.size = 0 #size also provides index for adding items to array\n",
    "        \n",
    "    def is_full(self):\n",
    "        return True if len(self.items) == self.LIMIT else False\n",
    "    \n",
    "    def is_empty(self):\n",
    "        return True if len(self.items) == 0 else False\n",
    "        \n",
    "    def push(self, value):\n",
    "        if self.is_full():\n",
    "            return \"list is full\"\n",
    "        print('pushing {} into stack/array at pos {}'.format(value, self.size))\n",
    "        self.items.insert(value, self.size)\n",
    "        self.size += 1\n",
    "        \n",
    "    def pop(self):\n",
    "        if self.is_empty():\n",
    "            return\n",
    "        self.size -= 1\n",
    "        return self.items[self.size]\n",
    "    \n",
    "    def peek(self):\n",
    "        return self.items[len(self.items)-1]\n",
    "    \n",
    "    def top(self):\n",
    "        return self.items[self.items[self.size]]\n",
    "    \n",
    "    def print_stack(self):\n",
    "        if self.items.is_empty():\n",
    "            return \"the stack is empty\"\n",
    "        else:\n",
    "            for x in range(0, size):\n",
    "                print (self.items[x])\n",
    "        \n",
    "        "
   ]
  },
  {
   "cell_type": "code",
   "execution_count": 26,
   "metadata": {},
   "outputs": [],
   "source": [
    "s = Stack()"
   ]
  },
  {
   "cell_type": "code",
   "execution_count": 27,
   "metadata": {},
   "outputs": [
    {
     "name": "stdout",
     "output_type": "stream",
     "text": [
      "pushing 5 into stack/array at pos 0\n",
      "pushing 9 into stack/array at pos 1\n",
      "pushing 11 into stack/array at pos 2\n",
      "pushing 1 into stack/array at pos 3\n"
     ]
    },
    {
     "data": {
      "text/plain": [
       "'list is full'"
      ]
     },
     "execution_count": 27,
     "metadata": {},
     "output_type": "execute_result"
    }
   ],
   "source": [
    "s.push(5)\n",
    "s.push(9)\n",
    "s.push(11)\n",
    "s.push(1)\n",
    "s.push(88)"
   ]
  },
  {
   "cell_type": "code",
   "execution_count": 28,
   "metadata": {},
   "outputs": [
    {
     "ename": "AttributeError",
     "evalue": "'list' object has no attribute 'is_empty'",
     "output_type": "error",
     "traceback": [
      "\u001b[0;31m---------------------------------------------------------------------------\u001b[0m",
      "\u001b[0;31mAttributeError\u001b[0m                            Traceback (most recent call last)",
      "\u001b[0;32m<ipython-input-28-bda0d0dfe0f3>\u001b[0m in \u001b[0;36m<module>\u001b[0;34m\u001b[0m\n\u001b[0;32m----> 1\u001b[0;31m \u001b[0ms\u001b[0m\u001b[0;34m.\u001b[0m\u001b[0mprint_stack\u001b[0m\u001b[0;34m(\u001b[0m\u001b[0;34m)\u001b[0m\u001b[0;34m\u001b[0m\u001b[0;34m\u001b[0m\u001b[0m\n\u001b[0m",
      "\u001b[0;32m<ipython-input-25-6789f068825e>\u001b[0m in \u001b[0;36mprint_stack\u001b[0;34m(self)\u001b[0m\n\u001b[1;32m     34\u001b[0m \u001b[0;34m\u001b[0m\u001b[0m\n\u001b[1;32m     35\u001b[0m     \u001b[0;32mdef\u001b[0m \u001b[0mprint_stack\u001b[0m\u001b[0;34m(\u001b[0m\u001b[0mself\u001b[0m\u001b[0;34m)\u001b[0m\u001b[0;34m:\u001b[0m\u001b[0;34m\u001b[0m\u001b[0;34m\u001b[0m\u001b[0m\n\u001b[0;32m---> 36\u001b[0;31m         \u001b[0;32mif\u001b[0m \u001b[0mself\u001b[0m\u001b[0;34m.\u001b[0m\u001b[0mitems\u001b[0m\u001b[0;34m.\u001b[0m\u001b[0mis_empty\u001b[0m\u001b[0;34m(\u001b[0m\u001b[0;34m)\u001b[0m\u001b[0;34m:\u001b[0m\u001b[0;34m\u001b[0m\u001b[0;34m\u001b[0m\u001b[0m\n\u001b[0m\u001b[1;32m     37\u001b[0m             \u001b[0;32mreturn\u001b[0m \u001b[0;34m\"the stack is empty\"\u001b[0m\u001b[0;34m\u001b[0m\u001b[0;34m\u001b[0m\u001b[0m\n\u001b[1;32m     38\u001b[0m         \u001b[0;32melse\u001b[0m\u001b[0;34m:\u001b[0m\u001b[0;34m\u001b[0m\u001b[0;34m\u001b[0m\u001b[0m\n",
      "\u001b[0;31mAttributeError\u001b[0m: 'list' object has no attribute 'is_empty'"
     ]
    }
   ],
   "source": [
    "s.print_stack()"
   ]
  },
  {
   "cell_type": "code",
   "execution_count": null,
   "metadata": {},
   "outputs": [],
   "source": [
    "class Stack:\n",
    "    def __init__(self):\n",
    "        # linked list approach, requires greater memory due to storage of each node:\n",
    "        self.data = None\n",
    "        self.prev = None\n",
    "        self.next = None\n",
    "        \n",
    "    def is_full(self):\n",
    "        return True if self.items.count() == LIMIT else False\n",
    "    \n",
    "    def is_empty(self):\n",
    "        temp\n",
    "        \n",
    "    def push(self, value):\n",
    "        self.data\n",
    "        \n",
    "    def pop(self):\n",
    "        if is_empty():\n",
    "            return\n",
    "        self.size -= 1\n",
    "        return self.items[self.size]\n",
    "    \n",
    "    def peek(self):\n",
    "        return self.items[len(self.items)-1]\n",
    "    \n",
    "    def top(self):\n",
    "        return self.items[self.items[self.size]]\n",
    "    \n",
    "    def print_stack(self):\n",
    "        if is_empty():\n",
    "            return \"the stack is empty\"\n",
    "        else:\n",
    "            for x in range(0, size):\n",
    "                print (self.items[x])"
   ]
  },
  {
   "cell_type": "markdown",
   "metadata": {},
   "source": [
    " ## Queue FIFO  - doubly linked list"
   ]
  },
  {
   "cell_type": "code",
   "execution_count": null,
   "metadata": {},
   "outputs": [],
   "source": [
    "class Queue:\n",
    "    def __init__(self):\n",
    "        self.items = []\n",
    "        \n",
    "    def peek(self):\n",
    "        \n",
    "        \n",
    "    def enqueue(self, item):\n",
    "        self.items.append\n",
    "        \n",
    "    def dequeue(self):\n",
    "        self.queue.pop()\n",
    "        \n",
    "    def is_empty(self):\n",
    "        if len(self)"
   ]
  },
  {
   "cell_type": "markdown",
   "metadata": {},
   "source": [
    "The process of abstraction allows the programmer to hide the implementation deatails in order to reduce comlzity and increase maintainability\n",
    "\n"
   ]
  },
  {
   "cell_type": "code",
   "execution_count": null,
   "metadata": {},
   "outputs": [],
   "source": [
    "get top by pop and push\n",
    "get front by"
   ]
  }
 ],
 "metadata": {
  "kernelspec": {
   "display_name": "Python 3",
   "language": "python",
   "name": "python3"
  },
  "language_info": {
   "codemirror_mode": {
    "name": "ipython",
    "version": 3
   },
   "file_extension": ".py",
   "mimetype": "text/x-python",
   "name": "python",
   "nbconvert_exporter": "python",
   "pygments_lexer": "ipython3",
   "version": "3.7.1"
  }
 },
 "nbformat": 4,
 "nbformat_minor": 2
}
