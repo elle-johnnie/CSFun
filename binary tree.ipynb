{
 "cells": [
  {
   "cell_type": "code",
   "execution_count": 1,
   "metadata": {},
   "outputs": [],
   "source": [
    "class Node(object):\n",
    "    def __init__(self, data=None, left_child=None, right_child=None):\n",
    "        \"\"\"Initialize with a single datum and set pointer to next node\n",
    "        if no next node then point to none (null)\"\"\"\n",
    "        self.data = data\n",
    "        self.left_child = left_child\n",
    "        self.right_child = right_child\n",
    "\n",
    "\n",
    "class BinaryTree(object):\n",
    "    \"\"\"Initialize the Binary Tree's 'root' has no nodes when initialized\n",
    "        so default root to None (null)\"\"\"\n",
    "    def __init__(self, root=None):\n",
    "        self.root = root\n",
    "\n",
    "    def _find(self, val, node):\n",
    "        \"\"\"check if current node = value to find\"\"\"\n",
    "        if val == node.data:\n",
    "            return node.data\n",
    "    # recursively call _find for left child\n",
    "        elif val < node.data and node.left_child:\n",
    "            return self._find(val, node.left_child)\n",
    "    # recursively call _find for right child\n",
    "        elif val > node.data and node.right_child:\n",
    "            self._find(val, node.right_child)\n",
    "\n",
    "    def find_value(self, val_to_find):\n",
    "        # check root for null\n",
    "        if not self.root:\n",
    "            return False\n",
    "        # recursively call initial _find function\"\"\"\n",
    "        else:\n",
    "            return self._find(val_to_find, self.root)\n",
    "        \n",
    "    def _insert(self, val, node):\n",
    "        if val < node.data:\n",
    "            if node.left_child:\n",
    "                # recursively call insert until null\n",
    "                return self._insert(val, node.left_child)\n",
    "            else:\n",
    "                node.left_child = Node(val)\n",
    "        else:\n",
    "            if node.right_child:\n",
    "                return self._insert(val, node.right_child)\n",
    "            else:\n",
    "                node.right_child = Node(val)\n",
    "\n",
    "    def insert_value(self, val_to_ins):\n",
    "        if not self.root:\n",
    "            self.root = Node(val_to_ins)\n",
    "        else:\n",
    "            return self._insert(val_to_ins, self.root)\n",
    "        \n",
    "#     def _height(self, node):\n",
    "#         if node.left_child not None:\n",
    "#             count_left += 1\n",
    "#             return self._height(node.left_child)\n",
    "#         if node.right_child not None:\n",
    "#             count_right += 1\n",
    "#             return self._height(node.right_child)\n",
    "#         if node:\n",
    "#             pass\n",
    "        \n",
    "#     def get_height(self):\n",
    "#         if self.root == None:\n",
    "#             return 0\n",
    "#         else\n",
    "#             pass\n",
    "        \n",
    "    def _print(self, node, order):\n",
    "        if order == 'pre':\n",
    "            if node:\n",
    "                print(node.data)\n",
    "                self._print(node.left_child, \"pre\")\n",
    "                self._print(node.right_child, \"pre\")\n",
    "        elif order == \"in\":\n",
    "            if node:\n",
    "                self._print(node.left_child, \"in\")\n",
    "                print(node.data)\n",
    "                self._print(node.right_child, \"in\")\n",
    "        elif order == \"post\":\n",
    "            if node:\n",
    "                self._print(node.left_child, \"post\")\n",
    "                self._print(node.right_child, \"post\")\n",
    "                print(node.data)\n",
    "        \n",
    "    def print_order(self, node, order):\n",
    "        if node == None:\n",
    "            print (\"null tree\")\n",
    "        else:\n",
    "            self._print(node, order)\n",
    "            \n",
    "        "
   ]
  },
  {
   "cell_type": "code",
   "execution_count": 2,
   "metadata": {},
   "outputs": [],
   "source": [
    "t = BinaryTree()"
   ]
  },
  {
   "cell_type": "code",
   "execution_count": 3,
   "metadata": {},
   "outputs": [],
   "source": [
    "t.insert_value(3)\n",
    "t.insert_value(9)\n",
    "t.insert_value(33)\n",
    "t.insert_value(5)\n",
    "t.insert_value(2)\n",
    "t.insert_value(14)\n"
   ]
  },
  {
   "cell_type": "code",
   "execution_count": 4,
   "metadata": {},
   "outputs": [
    {
     "name": "stdout",
     "output_type": "stream",
     "text": [
      "2\n"
     ]
    }
   ],
   "source": [
    "print(t.find_value(2))"
   ]
  },
  {
   "cell_type": "code",
   "execution_count": 5,
   "metadata": {},
   "outputs": [
    {
     "name": "stdout",
     "output_type": "stream",
     "text": [
      "None\n"
     ]
    }
   ],
   "source": [
    "print(t.find_value(9999))"
   ]
  },
  {
   "cell_type": "code",
   "execution_count": 6,
   "metadata": {},
   "outputs": [
    {
     "name": "stdout",
     "output_type": "stream",
     "text": [
      "3\n",
      "2\n",
      "9\n",
      "5\n",
      "33\n",
      "14\n"
     ]
    }
   ],
   "source": [
    "t.print_order(t.root, \"pre\")"
   ]
  },
  {
   "cell_type": "code",
   "execution_count": 7,
   "metadata": {},
   "outputs": [
    {
     "name": "stdout",
     "output_type": "stream",
     "text": [
      "2\n",
      "3\n",
      "5\n",
      "9\n",
      "14\n",
      "33\n"
     ]
    }
   ],
   "source": [
    "t.print_order(t.root, \"in\")"
   ]
  },
  {
   "cell_type": "code",
   "execution_count": 8,
   "metadata": {},
   "outputs": [
    {
     "name": "stdout",
     "output_type": "stream",
     "text": [
      "2\n",
      "5\n",
      "14\n",
      "33\n",
      "9\n",
      "3\n"
     ]
    }
   ],
   "source": [
    "t.print_order(t.root, \"post\")"
   ]
  },
  {
   "cell_type": "code",
   "execution_count": null,
   "metadata": {},
   "outputs": [],
   "source": []
  }
 ],
 "metadata": {
  "kernelspec": {
   "display_name": "Python 3",
   "language": "python",
   "name": "python3"
  },
  "language_info": {
   "codemirror_mode": {
    "name": "ipython",
    "version": 3
   },
   "file_extension": ".py",
   "mimetype": "text/x-python",
   "name": "python",
   "nbconvert_exporter": "python",
   "pygments_lexer": "ipython3",
   "version": "3.7.1"
  }
 },
 "nbformat": 4,
 "nbformat_minor": 2
}
