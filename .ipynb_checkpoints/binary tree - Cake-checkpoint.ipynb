{
 "cells": [
  {
   "cell_type": "code",
   "execution_count": 1,
   "metadata": {},
   "outputs": [],
   "source": [
    "  class BinaryTreeNode(object):\n",
    "\n",
    "    def __init__(self, value):\n",
    "        self.value = value\n",
    "        self.left  = None\n",
    "        self.right = None\n",
    "\n",
    "    def insert_left(self, value):\n",
    "        self.left = BinaryTreeNode(value)\n",
    "        return self.left\n",
    "\n",
    "    def insert_right(self, value):\n",
    "        self.right = BinaryTreeNode(value)\n",
    "        return self.right\n",
    "    \n",
    "    def get_height(self):\n",
    "        if self == None:\n",
    "            return\n",
    "        count_left = get_height(self.left)\n",
    "        count_right = get_height(self.right)\n",
    "        \n",
    "        height = max(count_left, count_right)\n",
    "        \n",
    "        return height + 1\n",
    "    \n",
    "    def get_depth(self):\n",
    "        if self == None:\n",
    "            return 0\n",
    "        get_depth(self.left)\n",
    "        return 1\n",
    "    \n",
    "    def is_super_balanced(self):\n",
    "        depths = []\n",
    "        \n",
    "        "
   ]
  },
  {
   "cell_type": "code",
   "execution_count": null,
   "metadata": {},
   "outputs": [],
   "source": []
  }
 ],
 "metadata": {
  "kernelspec": {
   "display_name": "Python 3",
   "language": "python",
   "name": "python3"
  },
  "language_info": {
   "codemirror_mode": {
    "name": "ipython",
    "version": 3
   },
   "file_extension": ".py",
   "mimetype": "text/x-python",
   "name": "python",
   "nbconvert_exporter": "python",
   "pygments_lexer": "ipython3",
   "version": "3.6.8"
  }
 },
 "nbformat": 4,
 "nbformat_minor": 2
}
