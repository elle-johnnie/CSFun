{
 "cells": [
  {
   "cell_type": "markdown",
   "metadata": {},
   "source": [
    " A function takes two input parameters: potion size and array of bottle sizes. You may assume that you have an unlimited amount of bottles of each size. The function should return the minimum possible waste value for\n",
    "the given potion size."
   ]
  },
  {
   "cell_type": "code",
   "execution_count": 5,
   "metadata": {},
   "outputs": [],
   "source": [
    "def get_min_waste(potion, bottle_arr):\n",
    "    # instantiate empty array to store all amounts of waste\n",
    "    waste_arr = []\n",
    "    print(potion)\n",
    "    print(bottle_arr)\n",
    "    \n",
    "    # recursively add bottle qty to itself until \n",
    "    def get_waste(potion, btl_qty):\n",
    "        print ('potion', potion)\n",
    "        if potion <= btl_qty:\n",
    "            waste = btl_qty - potion\n",
    "            waste_arr.append(waste)\n",
    "        else:\n",
    "             return get_waste(potion - btl_qty, btl_qty)\n",
    "    \n",
    "    # iterate through each bottle size in the array to determine waste if each bottle is only combined with itself\n",
    "    for btl_size in bottle_arr:\n",
    "        print('bottle size', btl_size)\n",
    "        get_waste(potion, btl_size)\n",
    "        print(waste_arr)\n",
    "        \n",
    "    return min(waste_arr)\n",
    "    \n",
    "    \n",
    "    "
   ]
  },
  {
   "cell_type": "code",
   "execution_count": 6,
   "metadata": {},
   "outputs": [
    {
     "name": "stdout",
     "output_type": "stream",
     "text": [
      "175\n",
      "[20, 30, 100]\n",
      "bottle size 20\n",
      "potion 175\n",
      "potion 155\n",
      "potion 135\n",
      "potion 115\n",
      "potion 95\n",
      "potion 75\n",
      "potion 55\n",
      "potion 35\n",
      "potion 15\n",
      "[5]\n",
      "bottle size 30\n",
      "potion 175\n",
      "potion 145\n",
      "potion 115\n",
      "potion 85\n",
      "potion 55\n",
      "potion 25\n",
      "[5, 5]\n",
      "bottle size 100\n",
      "potion 175\n",
      "potion 75\n",
      "[5, 5, 25]\n"
     ]
    },
    {
     "data": {
      "text/plain": [
       "5"
      ]
     },
     "execution_count": 6,
     "metadata": {},
     "output_type": "execute_result"
    }
   ],
   "source": [
    "get_min_waste(200, [20, 30, 100])\n"
   ]
  },
  {
   "cell_type": "code",
   "execution_count": null,
   "metadata": {},
   "outputs": [],
   "source": []
  },
  {
   "cell_type": "code",
   "execution_count": null,
   "metadata": {},
   "outputs": [],
   "source": []
  },
  {
   "cell_type": "code",
   "execution_count": null,
   "metadata": {},
   "outputs": [],
   "source": []
  }
 ],
 "metadata": {
  "kernelspec": {
   "display_name": "Python 3",
   "language": "python",
   "name": "python3"
  },
  "language_info": {
   "codemirror_mode": {
    "name": "ipython",
    "version": 3
   },
   "file_extension": ".py",
   "mimetype": "text/x-python",
   "name": "python",
   "nbconvert_exporter": "python",
   "pygments_lexer": "ipython3",
   "version": "3.7.1"
  }
 },
 "nbformat": 4,
 "nbformat_minor": 2
}
