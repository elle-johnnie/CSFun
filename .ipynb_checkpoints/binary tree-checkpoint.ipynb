{
 "cells": [
  {
   "cell_type": "code",
   "execution_count": 1,
   "metadata": {},
   "outputs": [],
   "source": [
    "import jdc"
   ]
  },
  {
   "cell_type": "code",
   "execution_count": 2,
   "metadata": {},
   "outputs": [],
   "source": [
    "class Node(object):\n",
    "    def __init__(self, data=None, left_child=None, right_child=None):\n",
    "        \"\"\"Initialize with a single datum and set pointer to next node\n",
    "        if no next node then point to none (null)\"\"\"\n",
    "        self.data = data\n",
    "        self.left_child = left_child\n",
    "        self.right_child = right_child"
   ]
  },
  {
   "cell_type": "code",
   "execution_count": 3,
   "metadata": {},
   "outputs": [],
   "source": [
    "class BinaryTree(object):\n",
    "    \"\"\"Initialize the Binary Tree's 'root' has no nodes when initialized\n",
    "        so default root to None (null)\"\"\"\n",
    "    def __init__(self, root=None):\n",
    "        self.root = root   "
   ]
  },
  {
   "cell_type": "code",
   "execution_count": 4,
   "metadata": {},
   "outputs": [],
   "source": [
    "t = BinaryTree()"
   ]
  },
  {
   "cell_type": "code",
   "execution_count": 5,
   "metadata": {},
   "outputs": [],
   "source": [
    "%%add_to BinaryTree\n",
    "def _insert(self, val, node):\n",
    "    if val < node.data:\n",
    "        if node.left_child:\n",
    "            # recursively call insert until null\n",
    "            return self._insert(val, node.left_child)\n",
    "        else:\n",
    "            node.left_child = Node(val)\n",
    "    else:\n",
    "        if node.right_child:\n",
    "            return self._insert(val, node.right_child)\n",
    "        else:\n",
    "            node.right_child = Node(val)\n",
    "\n",
    "def insert_value(self, val_to_ins):\n",
    "    if not self.root:\n",
    "        self.root = Node(val_to_ins)\n",
    "    else:\n",
    "        return self._insert(val_to_ins, self.root)\n",
    "\n"
   ]
  },
  {
   "cell_type": "code",
   "execution_count": 6,
   "metadata": {},
   "outputs": [],
   "source": [
    "t.insert_value(3)\n",
    "t.insert_value(9)\n",
    "t.insert_value(33)\n",
    "t.insert_value(5)\n",
    "t.insert_value(2)\n",
    "t.insert_value(14)"
   ]
  },
  {
   "cell_type": "code",
   "execution_count": 7,
   "metadata": {},
   "outputs": [],
   "source": [
    "%%add_to BinaryTree\n",
    "def _find(self, val, node):\n",
    "    \"\"\"check if current node = value to find\"\"\"\n",
    "    if val == node.data:\n",
    "        return node.data\n",
    "# recursively call _find for left child\n",
    "    elif val < node.data and node.left_child:\n",
    "        return self._find(val, node.left_child)\n",
    "# recursively call _find for right child\n",
    "    elif val > node.data and node.right_child:\n",
    "        self._find(val, node.right_child)\n",
    "        \n",
    "def find_value(self, val_to_find):\n",
    "        # check root for null\n",
    "        if not self.root:\n",
    "            return False\n",
    "        # recursively call initial _find function\"\"\"\n",
    "        else:\n",
    "            return self._find(val_to_find, self.root)     "
   ]
  },
  {
   "cell_type": "code",
   "execution_count": 8,
   "metadata": {},
   "outputs": [
    {
     "name": "stdout",
     "output_type": "stream",
     "text": [
      "2\n"
     ]
    }
   ],
   "source": [
    "print(t.find_value(2))"
   ]
  },
  {
   "cell_type": "code",
   "execution_count": 9,
   "metadata": {},
   "outputs": [
    {
     "name": "stdout",
     "output_type": "stream",
     "text": [
      "None\n"
     ]
    }
   ],
   "source": [
    "print(t.find_value(9999))"
   ]
  },
  {
   "cell_type": "code",
   "execution_count": 10,
   "metadata": {},
   "outputs": [],
   "source": [
    "%%add_to BinaryTree\n",
    "def _print(self, node, order):\n",
    "    if order == 'pre':\n",
    "        if node:\n",
    "            print(node.data, end=\" \")\n",
    "            self._print(node.left_child, \"pre\")\n",
    "            self._print(node.right_child, \"pre\")\n",
    "    elif order == \"in\":\n",
    "        if node:\n",
    "            self._print(node.left_child, \"in\")\n",
    "            print(node.data, end=\" \")\n",
    "            self._print(node.right_child, \"in\")\n",
    "    elif order == \"post\":\n",
    "        if node:\n",
    "            self._print(node.left_child, \"post\")\n",
    "            self._print(node.right_child, \"post\")\n",
    "            print(node.data, end=\" \")\n",
    "\n",
    "def print_order(self, node, order):\n",
    "    if node == None:\n",
    "        print(\"null tree\")\n",
    "    else:\n",
    "        self._print(node, order)\n"
   ]
  },
  {
   "cell_type": "code",
   "execution_count": 11,
   "metadata": {},
   "outputs": [
    {
     "name": "stdout",
     "output_type": "stream",
     "text": [
      "3 2 9 5 33 14 "
     ]
    }
   ],
   "source": [
    "t.print_order(t.root, \"pre\")"
   ]
  },
  {
   "cell_type": "code",
   "execution_count": 12,
   "metadata": {},
   "outputs": [
    {
     "name": "stdout",
     "output_type": "stream",
     "text": [
      "2 3 5 9 14 33 "
     ]
    }
   ],
   "source": [
    "t.print_order(t.root, \"in\")"
   ]
  },
  {
   "cell_type": "code",
   "execution_count": 13,
   "metadata": {},
   "outputs": [
    {
     "name": "stdout",
     "output_type": "stream",
     "text": [
      "2 5 14 33 9 3 "
     ]
    }
   ],
   "source": [
    "t.print_order(t.root, \"post\")"
   ]
  },
  {
   "cell_type": "code",
   "execution_count": 14,
   "metadata": {},
   "outputs": [],
   "source": [
    "%%add_to Node\n",
    "def get_height(self):\n",
    "    if self is None:\n",
    "        return 0\n",
    "    else:\n",
    "        count_left = get_height(self.left_child)\n",
    "        count_right = get_height(self.right_child)\n",
    "    \n",
    "        m = max(count_left, count_right)\n",
    "    \n",
    "        return m + 1"
   ]
  },
  {
   "cell_type": "code",
   "execution_count": 15,
   "metadata": {},
   "outputs": [
    {
     "name": "stdout",
     "output_type": "stream",
     "text": [
      "4\n"
     ]
    }
   ],
   "source": [
    "print(get_height(t.root))"
   ]
  },
  {
   "cell_type": "code",
   "execution_count": 16,
   "metadata": {},
   "outputs": [],
   "source": [
    "%%add_to Node\n",
    "import queue\n",
    "def siblings(self):\n",
    "    current_q = queue.Queue()\n",
    "    current_q.put(self)\n",
    "    child_q = queue.Queue()\n",
    "    while current_q:\n",
    "        x = current_q.get()\n",
    "        print(x, end=' ')\n",
    "        if x.left_child:\n",
    "            child_q.put(self.left_child)\n",
    "        if x.right_child:\n",
    "            child_q.put(self.right_child)\n",
    "        if q.empty:\n",
    "            while child_q:\n",
    "                current_q.put(child_q.get())\n",
    "        \n",
    "    print (\" \")\n",
    "    x.next = current_q[-1]\n"
   ]
  },
  {
   "cell_type": "code",
   "execution_count": 19,
   "metadata": {},
   "outputs": [
    {
     "ename": "NameError",
     "evalue": "name 'queue' is not defined",
     "output_type": "error",
     "traceback": [
      "\u001b[0;31m---------------------------------------------------------------------------\u001b[0m",
      "\u001b[0;31mNameError\u001b[0m                                 Traceback (most recent call last)",
      "\u001b[0;32m<ipython-input-19-df7ba7e9db80>\u001b[0m in \u001b[0;36m<module>\u001b[0;34m\u001b[0m\n\u001b[0;32m----> 1\u001b[0;31m \u001b[0msiblings\u001b[0m\u001b[0;34m(\u001b[0m\u001b[0mt\u001b[0m\u001b[0;34m.\u001b[0m\u001b[0mroot\u001b[0m\u001b[0;34m)\u001b[0m\u001b[0;34m\u001b[0m\u001b[0;34m\u001b[0m\u001b[0m\n\u001b[0m",
      "\u001b[0;32m<string>\u001b[0m in \u001b[0;36msiblings\u001b[0;34m(self)\u001b[0m\n",
      "\u001b[0;31mNameError\u001b[0m: name 'queue' is not defined"
     ]
    }
   ],
   "source": [
    "siblings(t.root)"
   ]
  },
  {
   "cell_type": "code",
   "execution_count": null,
   "metadata": {},
   "outputs": [],
   "source": []
  },
  {
   "cell_type": "code",
   "execution_count": null,
   "metadata": {},
   "outputs": [],
   "source": []
  }
 ],
 "metadata": {
  "kernelspec": {
   "display_name": "Python 3",
   "language": "python",
   "name": "python3"
  },
  "language_info": {
   "codemirror_mode": {
    "name": "ipython",
    "version": 3
   },
   "file_extension": ".py",
   "mimetype": "text/x-python",
   "name": "python",
   "nbconvert_exporter": "python",
   "pygments_lexer": "ipython3",
   "version": "3.6.8"
  }
 },
 "nbformat": 4,
 "nbformat_minor": 2
}
