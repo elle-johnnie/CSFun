{
 "cells": [
  {
   "cell_type": "code",
   "execution_count": 1,
   "metadata": {},
   "outputs": [],
   "source": [
    "class Node(object):\n",
    "    def __init__(self, data=None, left_child=None, right_child=None):\n",
    "        \"\"\"Initialize with a single datum and set pointer to next node\n",
    "        if no next node then point to none (null)\"\"\"\n",
    "        self.data = data\n",
    "        self.left_child = left_child\n",
    "        self.right_child = right_child\n",
    "\n",
    "\n",
    "class BinaryTree(object):\n",
    "    \"\"\"Initialize the Binary Tree's 'root' has no nodes when initialized\n",
    "        so default root to None (null)\"\"\"\n",
    "    def __init__(self, root=None):\n",
    "        self.root = root\n",
    "\n",
    "    def _find(self, val, node):\n",
    "        \"\"\"check if current node = value to find\"\"\"\n",
    "        if val == node.data:\n",
    "            return node.data\n",
    "#         \"\"\"recusively call _find for left child\"\"\"\n",
    "        elif val < node.data and node.left_child:\n",
    "            return self._find(val, node.left_child)\n",
    "#         \"\"\"recursively call _find for right child\"\"\"\n",
    "        elif val > node.data and node.right_child:\n",
    "            self._find(val, node.right_child)\n",
    "\n",
    "    def find_value(self, val_to_find):\n",
    "        \"\"\"check root for null\"\"\"\n",
    "        if not self.root:\n",
    "            return False\n",
    "#         \"\"\"call initial _find function\"\"\"\n",
    "        else:\n",
    "            return self._find(val_to_find, self.root)\n",
    "        \n",
    "    def _insert(self, val, node):\n",
    "        if val < node.data:\n",
    "            if node.left_child:\n",
    "                return self._insert(val, node.left_child)\n",
    "            else:\n",
    "                node.left_child = Node(val)\n",
    "        else:\n",
    "            if node.right_child:\n",
    "                return self._insert(val, node.right_child)\n",
    "            else:\n",
    "                node.right_child = Node(val)\n",
    "\n",
    "    def insert_value(self, val_to_ins):\n",
    "        if not self.root:\n",
    "            self.root = Node(val_to_ins)\n",
    "        else:\n",
    "            return self._insert(val_to_ins, self.root)\n",
    "        \n",
    "#     def _height(self, node):\n",
    "#         if node.left_child not None:\n",
    "#             count_left += 1\n",
    "#             return self._height(node.left_child)\n",
    "#         if node.right_child not None:\n",
    "#             count_right += 1\n",
    "#             return self._height(node.right_child)\n",
    "#         if node:\n",
    "#             pass\n",
    "        \n",
    "#     def get_height(self):\n",
    "#         if self.root == None:\n",
    "#             return 0\n",
    "#         else\n",
    "#             pass\n",
    "        \n",
    "    def _print(self, node, order):\n",
    "        if order == 'pre':\n",
    "            if node:\n",
    "                print(node.data)\n",
    "                self._print(node.left_child, \"pre\")\n",
    "                self._print(node.right_child, \"pre\")\n",
    "        elif order == \"in\":\n",
    "            if node:\n",
    "                self._print(node.left_child, \"in\")\n",
    "                print(node.data)\n",
    "                self._print(node.right_child, \"in\")\n",
    "        elif order == \"post\":\n",
    "            if node:\n",
    "                self._print(node.left_child, \"post\")\n",
    "                self._print(node.right_child, \"post\")\n",
    "                print(node.data)\n",
    "        \n",
    "    def print_order(self, node, order):\n",
    "        if node == None:\n",
    "            print (\"null tree\")\n",
    "        else:\n",
    "            self._print(node, order)\n",
    "            \n",
    "        "
   ]
  },
  {
   "cell_type": "code",
   "execution_count": 2,
   "metadata": {},
   "outputs": [],
   "source": [
    "t = BinaryTree()"
   ]
  },
  {
   "cell_type": "code",
   "execution_count": 3,
   "metadata": {},
   "outputs": [],
   "source": [
    "t.insert_value(3)\n",
    "t.insert_value(9)\n",
    "t.insert_value(33)\n",
    "t.insert_value(5)\n",
    "t.insert_value(2)\n",
    "t.insert_value(14)\n"
   ]
  },
  {
   "cell_type": "code",
   "execution_count": 4,
   "metadata": {},
   "outputs": [
    {
     "name": "stdout",
     "output_type": "stream",
     "text": [
      "2\n"
     ]
    }
   ],
   "source": [
    "print(t.find_value(2))"
   ]
  },
  {
   "cell_type": "code",
   "execution_count": 5,
   "metadata": {},
   "outputs": [
    {
     "name": "stdout",
     "output_type": "stream",
     "text": [
      "None\n"
     ]
    }
   ],
   "source": [
    "print(t.find_value(9999))"
   ]
  },
  {
   "cell_type": "code",
   "execution_count": 6,
   "metadata": {},
   "outputs": [
    {
     "name": "stdout",
     "output_type": "stream",
     "text": [
      "3\n"
     ]
    },
    {
     "ename": "AttributeError",
     "evalue": "'BinaryTree' object has no attribute '_pre'",
     "output_type": "error",
     "traceback": [
      "\u001b[0;31m---------------------------------------------------------------------------\u001b[0m",
      "\u001b[0;31mAttributeError\u001b[0m                            Traceback (most recent call last)",
      "\u001b[0;32m<ipython-input-6-66e4e20714c9>\u001b[0m in \u001b[0;36m<module>\u001b[0;34m\u001b[0m\n\u001b[0;32m----> 1\u001b[0;31m \u001b[0mt\u001b[0m\u001b[0;34m.\u001b[0m\u001b[0mprint_order\u001b[0m\u001b[0;34m(\u001b[0m\u001b[0mt\u001b[0m\u001b[0;34m.\u001b[0m\u001b[0mroot\u001b[0m\u001b[0;34m,\u001b[0m \u001b[0;34m\"pre\"\u001b[0m\u001b[0;34m)\u001b[0m\u001b[0;34m\u001b[0m\u001b[0;34m\u001b[0m\u001b[0m\n\u001b[0m",
      "\u001b[0;32m<ipython-input-1-a1ddc09da353>\u001b[0m in \u001b[0;36mprint_order\u001b[0;34m(self, node, order)\u001b[0m\n\u001b[1;32m     88\u001b[0m             \u001b[0mprint\u001b[0m \u001b[0;34m(\u001b[0m\u001b[0;34m\"null tree\"\u001b[0m\u001b[0;34m)\u001b[0m\u001b[0;34m\u001b[0m\u001b[0;34m\u001b[0m\u001b[0m\n\u001b[1;32m     89\u001b[0m         \u001b[0;32melse\u001b[0m\u001b[0;34m:\u001b[0m\u001b[0;34m\u001b[0m\u001b[0;34m\u001b[0m\u001b[0m\n\u001b[0;32m---> 90\u001b[0;31m             \u001b[0mself\u001b[0m\u001b[0;34m.\u001b[0m\u001b[0m_print\u001b[0m\u001b[0;34m(\u001b[0m\u001b[0mnode\u001b[0m\u001b[0;34m,\u001b[0m \u001b[0morder\u001b[0m\u001b[0;34m)\u001b[0m\u001b[0;34m\u001b[0m\u001b[0;34m\u001b[0m\u001b[0m\n\u001b[0m\u001b[1;32m     91\u001b[0m \u001b[0;34m\u001b[0m\u001b[0m\n\u001b[1;32m     92\u001b[0m \u001b[0;34m\u001b[0m\u001b[0m\n",
      "\u001b[0;32m<ipython-input-1-a1ddc09da353>\u001b[0m in \u001b[0;36m_print\u001b[0;34m(self, node, order)\u001b[0m\n\u001b[1;32m     71\u001b[0m             \u001b[0;32mif\u001b[0m \u001b[0mnode\u001b[0m\u001b[0;34m:\u001b[0m\u001b[0;34m\u001b[0m\u001b[0;34m\u001b[0m\u001b[0m\n\u001b[1;32m     72\u001b[0m                 \u001b[0mprint\u001b[0m\u001b[0;34m(\u001b[0m\u001b[0mnode\u001b[0m\u001b[0;34m.\u001b[0m\u001b[0mdata\u001b[0m\u001b[0;34m)\u001b[0m\u001b[0;34m\u001b[0m\u001b[0;34m\u001b[0m\u001b[0m\n\u001b[0;32m---> 73\u001b[0;31m                 \u001b[0mself\u001b[0m\u001b[0;34m.\u001b[0m\u001b[0m_pre\u001b[0m\u001b[0;34m(\u001b[0m\u001b[0mnode\u001b[0m\u001b[0;34m.\u001b[0m\u001b[0mleft_child\u001b[0m\u001b[0;34m,\u001b[0m \u001b[0;34m\"pre\"\u001b[0m\u001b[0;34m)\u001b[0m\u001b[0;34m\u001b[0m\u001b[0;34m\u001b[0m\u001b[0m\n\u001b[0m\u001b[1;32m     74\u001b[0m                 \u001b[0mself\u001b[0m\u001b[0;34m.\u001b[0m\u001b[0m_pre\u001b[0m\u001b[0;34m(\u001b[0m\u001b[0mnode\u001b[0m\u001b[0;34m.\u001b[0m\u001b[0mright_child\u001b[0m\u001b[0;34m,\u001b[0m \u001b[0;34m\"pre\"\u001b[0m\u001b[0;34m)\u001b[0m\u001b[0;34m\u001b[0m\u001b[0;34m\u001b[0m\u001b[0m\n\u001b[1;32m     75\u001b[0m         \u001b[0;32melif\u001b[0m \u001b[0morder\u001b[0m \u001b[0;34m==\u001b[0m \u001b[0;34m\"in\"\u001b[0m\u001b[0;34m:\u001b[0m\u001b[0;34m\u001b[0m\u001b[0;34m\u001b[0m\u001b[0m\n",
      "\u001b[0;31mAttributeError\u001b[0m: 'BinaryTree' object has no attribute '_pre'"
     ]
    }
   ],
   "source": [
    "t.print_order(t.root, \"pre\")"
   ]
  },
  {
   "cell_type": "code",
   "execution_count": null,
   "metadata": {},
   "outputs": [],
   "source": [
    "t.print_order(t.root, \"in\")"
   ]
  },
  {
   "cell_type": "code",
   "execution_count": null,
   "metadata": {},
   "outputs": [],
   "source": []
  }
 ],
 "metadata": {
  "kernelspec": {
   "display_name": "Python 3",
   "language": "python",
   "name": "python3"
  },
  "language_info": {
   "codemirror_mode": {
    "name": "ipython",
    "version": 3
   },
   "file_extension": ".py",
   "mimetype": "text/x-python",
   "name": "python",
   "nbconvert_exporter": "python",
   "pygments_lexer": "ipython3",
   "version": "3.7.1"
  }
 },
 "nbformat": 4,
 "nbformat_minor": 2
}
