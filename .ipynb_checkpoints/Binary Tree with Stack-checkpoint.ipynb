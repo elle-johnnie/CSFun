{
 "cells": [
  {
   "cell_type": "markdown",
   "metadata": {},
   "source": [
    "Pre-order traversal (root, left, right)\n",
    "1. if the tree is empty, return None\n",
    "2. create and empty stack of node object\n",
    "3. push root to stack\n",
    "4. Do this while stack is not empty\n",
    "        a. pop the node freom the stack and print its value\n",
    "        b. push right child on to stack, if not None\n",
    "        c. push left child on to stack, if not None\n",
    "** Right child is pushed before left because left will be removed first from stack"
   ]
  },
  {
   "cell_type": "code",
   "execution_count": null,
   "metadata": {},
   "outputs": [],
   "source": []
  },
  {
   "cell_type": "markdown",
   "metadata": {},
   "source": [
    "#### Think of how this compares to the recursive approach\n",
    "in this case we are building the stack with code, so recursive approach is more straightforward"
   ]
  },
  {
   "cell_type": "code",
   "execution_count": null,
   "metadata": {},
   "outputs": [],
   "source": []
  }
 ],
 "metadata": {
  "kernelspec": {
   "display_name": "Python 3",
   "language": "python",
   "name": "python3"
  },
  "language_info": {
   "codemirror_mode": {
    "name": "ipython",
    "version": 3
   },
   "file_extension": ".py",
   "mimetype": "text/x-python",
   "name": "python",
   "nbconvert_exporter": "python",
   "pygments_lexer": "ipython3",
   "version": "3.7.1"
  }
 },
 "nbformat": 4,
 "nbformat_minor": 2
}
