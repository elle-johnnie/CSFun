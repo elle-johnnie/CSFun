{
 "cells": [
  {
   "cell_type": "code",
   "execution_count": 1,
   "metadata": {},
   "outputs": [],
   "source": [
    "import jdc\n",
    "try:\n",
    "    import queue\n",
    "except ImportError:\n",
    "    import Queue as queue"
   ]
  },
  {
   "cell_type": "code",
   "execution_count": 7,
   "metadata": {},
   "outputs": [],
   "source": [
    "class Tree:\n",
    "    def __init__(self, data, left_child=None, right_child=None):\n",
    "        self.data = data\n",
    "        self.left_child  = left_child\n",
    "        self.right_child = right_child\n",
    "        self.next = None\n",
    "\n",
    "    def __str__(self):\n",
    "        return str(self.data)"
   ]
  },
  {
   "cell_type": "code",
   "execution_count": 12,
   "metadata": {},
   "outputs": [],
   "source": [
    "t = Tree('A')\n",
    "t.left_child = Tree('B')\n",
    "t.right_child = Tree('C')\n",
    "t.left_child.left_child = Tree('D')\n",
    "t.left_child.right_child = Tree('F')\n",
    "t.right_child.right_child = Tree('G')"
   ]
  },
  {
   "cell_type": "code",
   "execution_count": 13,
   "metadata": {},
   "outputs": [],
   "source": [
    "%%add_to Tree\n",
    "import queue\n",
    "def b_f_t(self):\n",
    "    if not self:\n",
    "        return\n",
    "    q = queue.Queue(self)\n",
    "    while q.length > 0:\n",
    "        current = q[0]\n",
    "        if current.left_child:\n",
    "            queue.put(current.left_child)\n",
    "        if current.right_child:\n",
    "            queue.put(current.right_child)"
   ]
  },
  {
   "cell_type": "code",
   "execution_count": 14,
   "metadata": {},
   "outputs": [
    {
     "ename": "NameError",
     "evalue": "name 'queue' is not defined",
     "output_type": "error",
     "traceback": [
      "\u001b[0;31m---------------------------------------------------------------------------\u001b[0m",
      "\u001b[0;31mNameError\u001b[0m                                 Traceback (most recent call last)",
      "\u001b[0;32m<ipython-input-14-27e126855413>\u001b[0m in \u001b[0;36m<module>\u001b[0;34m\u001b[0m\n\u001b[0;32m----> 1\u001b[0;31m \u001b[0mt\u001b[0m\u001b[0;34m.\u001b[0m\u001b[0mb_f_t\u001b[0m\u001b[0;34m(\u001b[0m\u001b[0;34m)\u001b[0m\u001b[0;34m\u001b[0m\u001b[0;34m\u001b[0m\u001b[0m\n\u001b[0m",
      "\u001b[0;32m<string>\u001b[0m in \u001b[0;36mb_f_t\u001b[0;34m(self)\u001b[0m\n",
      "\u001b[0;31mNameError\u001b[0m: name 'queue' is not defined"
     ]
    }
   ],
   "source": [
    "t.b_f_t()"
   ]
  },
  {
   "cell_type": "code",
   "execution_count": null,
   "metadata": {},
   "outputs": [],
   "source": []
  }
 ],
 "metadata": {
  "kernelspec": {
   "display_name": "Python 3",
   "language": "python",
   "name": "python3"
  },
  "language_info": {
   "codemirror_mode": {
    "name": "ipython",
    "version": 3
   },
   "file_extension": ".py",
   "mimetype": "text/x-python",
   "name": "python",
   "nbconvert_exporter": "python",
   "pygments_lexer": "ipython3",
   "version": "3.6.8"
  }
 },
 "nbformat": 4,
 "nbformat_minor": 2
}
