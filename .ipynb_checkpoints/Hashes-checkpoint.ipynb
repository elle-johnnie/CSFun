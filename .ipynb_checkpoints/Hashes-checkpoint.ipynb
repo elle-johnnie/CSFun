{
 "cells": [
  {
   "cell_type": "markdown",
   "metadata": {},
   "source": [
    "Hash set - distinct/unique values\n",
    "Hash dictionary - \n",
    "\n",
    "\"Sets and dictionaries are ideal data structures to be used when your data has no intrinsic order, but does have a unique object that can be used to reference it (the reference object is normally a string, but can be any hashable type). This reference object is called the “key,” while the data is the “value.” **Dictionaries and sets are almost identical, except that sets do not actually contain values: a set is simply a collection of unique keys. As the name implies, sets are very useful for doing set operations.**"
   ]
  },
  {
   "cell_type": "markdown",
   "metadata": {},
   "source": [
    "A __hash__ function is any func that can be used to map data of arbitrary size to data of fixed size"
   ]
  },
  {
   "cell_type": "markdown",
   "metadata": {},
   "source": [
    "Problem: ability to manage classroom attendance\n",
    "\n",
    "    option 1: students add their names to an array or linked list\n",
    "        pros: straight forward\n",
    "        cons: hard to lookup\n",
    "        \n",
    "    option 2: create an array of 24, values from 0-23 indexed\n",
    "        pros: fast lookup O(1)\n",
    "        cons: only works w/ uniq integer values within a constrained range\n",
    "        direct addressing is the most efficient approach"
   ]
  },
  {
   "cell_type": "markdown",
   "metadata": {},
   "source": [
    "**Perfect hashing function:** 1-to-1 mapping from each key to uniq. int value"
   ]
  },
  {
   "cell_type": "markdown",
   "metadata": {},
   "source": [
    "Designing a HASH table:\n",
    " - select a table size (partially subjective process)\n",
    " - create a hash fcn that maps all keys to int in range 0..39 -> The int value is used as index into table\n",
    "     - assign each letter in alphabet to an int value then mod 40 to get a unique integer value [RANDOM LOGIC]\n",
    "     - turns each name into an integer key"
   ]
  },
  {
   "cell_type": "markdown",
   "metadata": {},
   "source": [
    "A good hashing function: provides a time complexity of O(1) for __insert__ __delete__ and __search__\n",
    "\n",
    "hash values are uniformly distributed\n",
    "\n",
    "keys that are close have hash values that are far apart\n",
    "\n",
    "hashing appears to be random (should be hard to deduce the original object(hash key creation))\n",
    "\n",
    "be mindful of collisions!"
   ]
  },
  {
   "cell_type": "markdown",
   "metadata": {},
   "source": [
    "Resolving collisions:\n",
    "    - 'Separate Chaining': uses linked list to store the collided keys\n",
    "    - requires add'l memory outside of initial table\n",
    "    - results in a worst case scenario of O(n) lookup time\n",
    "    \n",
    "    - 'Linear Probing': place collided item in the next available space\n",
    "    - testing if a cdll is free is called --probing--\n",
    "    - can result in many more collisions down the line\n",
    "    "
   ]
  },
  {
   "cell_type": "code",
   "execution_count": 11,
   "metadata": {},
   "outputs": [
    {
     "name": "stdout",
     "output_type": "stream",
     "text": [
      "repeat found!\n"
     ]
    }
   ],
   "source": [
    "h = set()\n",
    "arr = [8, 9, 33, 67, 99, 44, 22, 33]\n",
    "for x in arr:\n",
    "    if x in h:\n",
    "        print('repeat found!')\n",
    "    else:\n",
    "        h.add(x)\n",
    "\n",
    "    "
   ]
  },
  {
   "cell_type": "code",
   "execution_count": 13,
   "metadata": {},
   "outputs": [
    {
     "name": "stdout",
     "output_type": "stream",
     "text": [
      "repeat found: 33\n"
     ]
    }
   ],
   "source": [
    "h = set()\n",
    "arr = [8, 9, 33, 67, 99, 44, 22, 33]\n",
    "for x in arr:\n",
    "    if x in h:\n",
    "        print('repeat found: {}'.format(x))\n",
    "    else:\n",
    "        h.add(x)"
   ]
  },
  {
   "cell_type": "code",
   "execution_count": null,
   "metadata": {},
   "outputs": [],
   "source": [
    "arr = [1, 3, 9, 10, 24, 2, 5]\n",
    "h = {}\n",
    "\n"
   ]
  },
  {
   "cell_type": "markdown",
   "metadata": {},
   "source": [
    "optimize finding min max: array or linked list\n",
    "records w/ duplicate keys:"
   ]
  }
 ],
 "metadata": {
  "kernelspec": {
   "display_name": "Python 3",
   "language": "python",
   "name": "python3"
  },
  "language_info": {
   "codemirror_mode": {
    "name": "ipython",
    "version": 3
   },
   "file_extension": ".py",
   "mimetype": "text/x-python",
   "name": "python",
   "nbconvert_exporter": "python",
   "pygments_lexer": "ipython3",
   "version": "3.7.1"
  }
 },
 "nbformat": 4,
 "nbformat_minor": 2
}
