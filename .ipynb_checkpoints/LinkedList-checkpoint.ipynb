{
 "cells": [
  {
   "cell_type": "markdown",
   "metadata": {},
   "source": [
    "# LinkedList"
   ]
  },
  {
   "cell_type": "code",
   "execution_count": 1,
   "metadata": {},
   "outputs": [],
   "source": [
    "# uncomment these 2 lines on first run\n",
    "# import sys\n",
    "# !{sys.executable} -m pip install jdc"
   ]
  },
  {
   "cell_type": "code",
   "execution_count": 2,
   "metadata": {},
   "outputs": [],
   "source": [
    "import jdc"
   ]
  },
  {
   "cell_type": "code",
   "execution_count": 3,
   "metadata": {},
   "outputs": [],
   "source": [
    "class Node(object):\n",
    "    def __init__(self, data=None, next_node=None):\n",
    "        \"\"\"Initialize with a single datum and set pointer to next node\n",
    "        if no next node then point to none (null)\"\"\"\n",
    "        self.data = data\n",
    "        self.next = next_node\n",
    "        \n",
    "    def get_data(self):\n",
    "        \"\"\"get value of current node\"\"\"\n",
    "        return self.data\n",
    "    \n",
    "    def get_next(self):\n",
    "        \"\"\"get current node's pointer to next \"\"\"\n",
    "        return self.next\n",
    "    \n",
    "    def set_data(self, new_data):\n",
    "        self.data = new_data\n",
    "        \n",
    "    def set_next(self, new_next):\n",
    "        \"\"\"set the next pointer to add the next node\"\"\"\n",
    "        self.next = new_next"
   ]
  },
  {
   "cell_type": "markdown",
   "metadata": {},
   "source": [
    "Create a new node instance "
   ]
  },
  {
   "cell_type": "code",
   "execution_count": 4,
   "metadata": {},
   "outputs": [
    {
     "data": {
      "text/plain": [
       "4"
      ]
     },
     "execution_count": 4,
     "metadata": {},
     "output_type": "execute_result"
    }
   ],
   "source": [
    "x = Node(4)\n",
    "x.get_data()"
   ]
  },
  {
   "cell_type": "code",
   "execution_count": 5,
   "metadata": {
    "scrolled": true
   },
   "outputs": [
    {
     "data": {
      "text/plain": [
       "45"
      ]
     },
     "execution_count": 5,
     "metadata": {},
     "output_type": "execute_result"
    }
   ],
   "source": [
    "x.set_data(45)\n",
    "x.get_data()"
   ]
  },
  {
   "cell_type": "markdown",
   "metadata": {},
   "source": [
    "Create another node "
   ]
  },
  {
   "cell_type": "code",
   "execution_count": 6,
   "metadata": {},
   "outputs": [
    {
     "data": {
      "text/plain": [
       "25"
      ]
     },
     "execution_count": 6,
     "metadata": {},
     "output_type": "execute_result"
    }
   ],
   "source": [
    "x2 = Node(25)\n",
    "x2.get_data()"
   ]
  },
  {
   "cell_type": "code",
   "execution_count": 7,
   "metadata": {},
   "outputs": [
    {
     "data": {
      "text/plain": [
       "25"
      ]
     },
     "execution_count": 7,
     "metadata": {},
     "output_type": "execute_result"
    }
   ],
   "source": [
    "x.set_next(x2)\n",
    "x_next_node = x.get_next()\n",
    "x_next_node.get_data()"
   ]
  },
  {
   "cell_type": "code",
   "execution_count": 8,
   "metadata": {},
   "outputs": [],
   "source": [
    "class LinkedList(object):\n",
    "    \"\"\"Initialize the LinkedList 'head' has no nodes when initialized\n",
    "    so default head to None (null)\"\"\"\n",
    "    def __init__(self, head=None):\n",
    "        self.head = head"
   ]
  },
  {
   "cell_type": "code",
   "execution_count": 9,
   "metadata": {},
   "outputs": [],
   "source": [
    "new_list = LinkedList()"
   ]
  },
  {
   "cell_type": "code",
   "execution_count": 10,
   "metadata": {},
   "outputs": [],
   "source": [
    "%%add_to LinkedList\n",
    "def is_empty(self):\n",
    "        # return T/F depending on whether the head of the linked list is null or not\n",
    "        return self.head is None"
   ]
  },
  {
   "cell_type": "code",
   "execution_count": 11,
   "metadata": {},
   "outputs": [
    {
     "name": "stdout",
     "output_type": "stream",
     "text": [
      "True\n"
     ]
    }
   ],
   "source": [
    "print(new_list.is_empty())"
   ]
  },
  {
   "cell_type": "code",
   "execution_count": 12,
   "metadata": {},
   "outputs": [],
   "source": [
    "%%add_to LinkedList\n",
    "def append_data(self, val_to_append):\n",
    "    # check to see if LinkedList is None\n",
    "    if self.is_empty():\n",
    "        # create 1st node with value\n",
    "        new_node = Node(val_to_append)\n",
    "        # designate the newly created node as the head\n",
    "        self.head = new_node\n",
    "    else:  # traverse the list\n",
    "        current = self.head\n",
    "        # keep traversing list until the current node points to None, indicating end of linked list\n",
    "        while current.get_next() is not None:\n",
    "            current = current.get_next()\n",
    "        # once next is None, create the new node\n",
    "        add_node = Node(val_to_append)\n",
    "        # set the pointer on the current\n",
    "        current.next = add_node"
   ]
  },
  {
   "cell_type": "code",
   "execution_count": 13,
   "metadata": {},
   "outputs": [],
   "source": [
    "new_list.append_data(17)\n",
    "new_list.append_data(19)\n",
    "new_list.append_data(23)\n",
    "new_list.append_data(34)\n",
    "new_list.append_data(12)\n",
    "new_list.append_data(42)"
   ]
  },
  {
   "cell_type": "code",
   "execution_count": 14,
   "metadata": {},
   "outputs": [
    {
     "name": "stdout",
     "output_type": "stream",
     "text": [
      "False\n"
     ]
    }
   ],
   "source": [
    "print(new_list.is_empty())"
   ]
  },
  {
   "cell_type": "code",
   "execution_count": 15,
   "metadata": {},
   "outputs": [],
   "source": [
    "%%add_to LinkedList\n",
    "def is_empty(self):\n",
    "        # return T/F depending on whether the head of the linked list is null or not\n",
    "        return self.head is None\n",
    "\n",
    "def print_values(self):\n",
    "    result = []\n",
    "    if self.is_empty():\n",
    "        result = \"The Linked List is empty.\"\n",
    "    else:  # traverse the list\n",
    "        current = self.head\n",
    "        while current:\n",
    "            temp = current.get_data()\n",
    "            result.append(temp)\n",
    "            current = current.get_next()\n",
    "\n",
    "    return result"
   ]
  },
  {
   "cell_type": "code",
   "execution_count": 16,
   "metadata": {},
   "outputs": [
    {
     "name": "stdout",
     "output_type": "stream",
     "text": [
      "[17, 19, 23, 34, 12, 42]\n"
     ]
    }
   ],
   "source": [
    "print(new_list.print_values())"
   ]
  },
  {
   "cell_type": "code",
   "execution_count": 17,
   "metadata": {},
   "outputs": [],
   "source": [
    "%%add_to LinkedList\n",
    "def prepend_data(self, val_to_prepend):\n",
    "    # create a new node object with provided value\n",
    "    new_node = Node(val_to_prepend)\n",
    "    # the new_node default next is None/null so set this node's next (pointer)\n",
    "    # to current LinkedList object's head\n",
    "    new_node.set_next(self.head)\n",
    "    # reset the head of the LinkedList object to the node just created\n",
    "    self.head = new_node"
   ]
  },
  {
   "cell_type": "code",
   "execution_count": 18,
   "metadata": {},
   "outputs": [
    {
     "name": "stdout",
     "output_type": "stream",
     "text": [
      "[99, 17, 19, 23, 34, 12, 42]\n"
     ]
    }
   ],
   "source": [
    "new_list.prepend_data(99)\n",
    "print(new_list.print_values())"
   ]
  },
  {
   "cell_type": "code",
   "execution_count": 19,
   "metadata": {},
   "outputs": [
    {
     "name": "stdout",
     "output_type": "stream",
     "text": [
      "[99, 17, 19, 23, 34, 12, 42, 77]\n"
     ]
    }
   ],
   "source": [
    "new_list.append_data(77)\n",
    "print(new_list.print_values())"
   ]
  },
  {
   "cell_type": "code",
   "execution_count": 20,
   "metadata": {},
   "outputs": [],
   "source": [
    "%%add_to LinkedList\n",
    "def remove_node(self, val_to_remove):\n",
    "    if self.is_empty():\n",
    "        # handle an empty list\n",
    "        return \"the LinkedList is empty\"\n",
    "    else:  # traverse the list until the value is found\n",
    "        current = self.head\n",
    "        previous = None\n",
    "        while current.get_data() is not val_to_remove:\n",
    "            previous = current\n",
    "            current = current.get_next()\n",
    "            # handle the case that the value is not in the list\n",
    "            if current is None:\n",
    "                return \"the value is not in the linkedlist\"\n",
    "        # when value is found set the previous node's pointer to the\n",
    "        # current node's next\n",
    "        previous.set_next(current.get_next())"
   ]
  },
  {
   "cell_type": "code",
   "execution_count": 21,
   "metadata": {},
   "outputs": [
    {
     "name": "stdout",
     "output_type": "stream",
     "text": [
      "[99, 17, 19, 34, 12, 42, 77]\n"
     ]
    }
   ],
   "source": [
    "new_list.remove_node(23)\n",
    "print(new_list.print_values())"
   ]
  },
  {
   "cell_type": "code",
   "execution_count": 22,
   "metadata": {},
   "outputs": [
    {
     "data": {
      "text/plain": [
       "'the value is not in the linkedlist'"
      ]
     },
     "execution_count": 22,
     "metadata": {},
     "output_type": "execute_result"
    }
   ],
   "source": [
    "new_list.remove_node(9999)"
   ]
  },
  {
   "cell_type": "code",
   "execution_count": 23,
   "metadata": {},
   "outputs": [
    {
     "name": "stdout",
     "output_type": "stream",
     "text": [
      "The Linked List is empty.\n"
     ]
    }
   ],
   "source": [
    "new_list2 = LinkedList()\n",
    "print (new_list2.print_values())"
   ]
  },
  {
   "cell_type": "code",
   "execution_count": 24,
   "metadata": {},
   "outputs": [],
   "source": [
    "%%add_to LinkedList\n",
    "def get_size(self):\n",
    "    count = 0\n",
    "    if self.is_empty():\n",
    "        return 0\n",
    "    else:  # traverse the list\n",
    "        current = self.head\n",
    "        while current:\n",
    "            temp = current.get_data()\n",
    "            count += 1\n",
    "            current = current.get_next()\n",
    "    return count"
   ]
  },
  {
   "cell_type": "code",
   "execution_count": 25,
   "metadata": {},
   "outputs": [
    {
     "name": "stdout",
     "output_type": "stream",
     "text": [
      "7\n"
     ]
    }
   ],
   "source": [
    "print(new_list.get_size())"
   ]
  },
  {
   "cell_type": "code",
   "execution_count": 26,
   "metadata": {},
   "outputs": [],
   "source": [
    "%%add_to LinkedList\n",
    "def find_k_from_end(self,k):\n",
    "    result = []\n",
    "    count = self.get_size()\n",
    "    if self.is_empty():\n",
    "        return \"The Linked List is empty.\"\n",
    "    else:  # traverse the list\n",
    "        if k > count:\n",
    "            return \"The Linked List is smaller than {}\".format(k)\n",
    "        current = self.head\n",
    "        while current:\n",
    "            temp = current.get_data()\n",
    "            count += 1\n",
    "            result.append(current)\n",
    "            current = current.get_next()\n",
    "    return result[-k].get_data()"
   ]
  },
  {
   "cell_type": "code",
   "execution_count": 27,
   "metadata": {},
   "outputs": [
    {
     "name": "stdout",
     "output_type": "stream",
     "text": [
      "12\n"
     ]
    }
   ],
   "source": [
    "print(new_list.find_k_from_end(3))"
   ]
  },
  {
   "cell_type": "code",
   "execution_count": 28,
   "metadata": {},
   "outputs": [
    {
     "name": "stdout",
     "output_type": "stream",
     "text": [
      "The Linked List is smaller than 50\n"
     ]
    }
   ],
   "source": [
    "print(new_list.find_k_from_end(50))"
   ]
  },
  {
   "cell_type": "markdown",
   "metadata": {},
   "source": [
    "Traverse the whole linked list and count the no. of nodes. \n",
    "Now traverse the list again till count/2 and return the node at count/2"
   ]
  },
  {
   "cell_type": "code",
   "execution_count": 29,
   "metadata": {},
   "outputs": [],
   "source": [
    "%%add_to LinkedList\n",
    "def find_middle_value(self):\n",
    "    n = self.get_size()\n",
    "    mid = n // 2\n",
    "    print('size: {} mid: {}'.format(n, mid))\n",
    "    current = self.head\n",
    "    if n % 2 == 0:\n",
    "        for _ in range(0, mid):\n",
    "            midL = current.get_data()\n",
    "            current = current.get_next()\n",
    "            midR = current.get_data()\n",
    "            middle = \"middle left val:{}, middle right val:{}\".format(midL, midR)\n",
    "    else:\n",
    "        for _ in range(0, mid):\n",
    "            current = current.get_next()\n",
    "            middle = \"middle val: {}\".format(current.get_data())\n",
    "    return  middle    "
   ]
  },
  {
   "cell_type": "code",
   "execution_count": 30,
   "metadata": {},
   "outputs": [
    {
     "name": "stdout",
     "output_type": "stream",
     "text": [
      "[99, 17, 19, 34, 12, 42, 77]\n",
      "size: 7 mid: 3\n"
     ]
    },
    {
     "data": {
      "text/plain": [
       "'middle val: 34'"
      ]
     },
     "execution_count": 30,
     "metadata": {},
     "output_type": "execute_result"
    }
   ],
   "source": [
    "print(new_list.print_values())\n",
    "new_list.find_middle_value()"
   ]
  },
  {
   "cell_type": "code",
   "execution_count": 31,
   "metadata": {},
   "outputs": [
    {
     "name": "stdout",
     "output_type": "stream",
     "text": [
      "[99, 17, 19, 34, 12, 42, 77, 44]\n",
      "size: 8 mid: 4\n"
     ]
    },
    {
     "data": {
      "text/plain": [
       "'middle left val:34, middle right val:12'"
      ]
     },
     "execution_count": 31,
     "metadata": {},
     "output_type": "execute_result"
    }
   ],
   "source": [
    "new_list.append_data(44)\n",
    "print(new_list.print_values())\n",
    "new_list.find_middle_value()"
   ]
  },
  {
   "cell_type": "markdown",
   "metadata": {},
   "source": [
    "Traverse linked list using two pointers. Move one pointer by one and other pointer by two. \n",
    "When the fast pointer reaches end slow pointer will reach middle of the linked list."
   ]
  },
  {
   "cell_type": "code",
   "execution_count": 32,
   "metadata": {},
   "outputs": [],
   "source": [
    "%%add_to LinkedList\n",
    "def find_middle_value_2ptr(self):\n",
    "    middle = \"\"\n",
    "    if not self.is_empty():\n",
    "        ptr1 = self.head\n",
    "        ptr2 = self.head\n",
    "        while ptr2 and ptr2.get_next():\n",
    "            ptr1 = ptr1.get_next()\n",
    "            ptr2 = ptr2.get_next().get_next()\n",
    "            middle = ptr1.get_data()\n",
    "        return middle\n",
    "        "
   ]
  },
  {
   "cell_type": "code",
   "execution_count": 33,
   "metadata": {},
   "outputs": [
    {
     "name": "stdout",
     "output_type": "stream",
     "text": [
      "12\n"
     ]
    }
   ],
   "source": [
    "print(new_list.find_middle_value_2ptr())"
   ]
  },
  {
   "cell_type": "code",
   "execution_count": 34,
   "metadata": {},
   "outputs": [
    {
     "name": "stdout",
     "output_type": "stream",
     "text": [
      "None\n"
     ]
    }
   ],
   "source": [
    "print(new_list2.find_middle_value_2ptr())"
   ]
  },
  {
   "cell_type": "code",
   "execution_count": 35,
   "metadata": {},
   "outputs": [
    {
     "name": "stdout",
     "output_type": "stream",
     "text": [
      "12\n"
     ]
    }
   ],
   "source": [
    "new_list.append_data(55)\n",
    "print(new_list.find_middle_value_2ptr())"
   ]
  },
  {
   "cell_type": "code",
   "execution_count": 36,
   "metadata": {},
   "outputs": [],
   "source": [
    "%%add_to LinkedList      \n",
    "def is_cycle(self):\n",
    "    if self.is_empty():\n",
    "        return False\n",
    "    if not self.next:\n",
    "        return False\n",
    "    slow = self.head\n",
    "    fast = self.head\n",
    "\n",
    "    while fast:\n",
    "        slow = slow.next\n",
    "        pass"
   ]
  }
 ],
 "metadata": {
  "kernelspec": {
   "display_name": "Python 3",
   "language": "python",
   "name": "python3"
  },
  "language_info": {
   "codemirror_mode": {
    "name": "ipython",
    "version": 3
   },
   "file_extension": ".py",
   "mimetype": "text/x-python",
   "name": "python",
   "nbconvert_exporter": "python",
   "pygments_lexer": "ipython3",
   "version": "3.6.8"
  }
 },
 "nbformat": 4,
 "nbformat_minor": 2
}
