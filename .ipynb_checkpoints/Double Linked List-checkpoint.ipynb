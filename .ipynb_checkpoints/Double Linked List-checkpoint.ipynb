{
 "cells": [
  {
   "cell_type": "code",
   "execution_count": 1,
   "metadata": {},
   "outputs": [],
   "source": [
    "import jdc"
   ]
  },
  {
   "cell_type": "markdown",
   "metadata": {},
   "source": [
    "\"Advantages over singly linked list (from Geeks for Geeks):\n",
    "\n",
    "1. A DLL can be traversed in both forward and backward direction\n",
    "2. The delete operation in DLL is more efficient if pointer to the node to be deleted is given.\n",
    "3. We can quickly insert a new node before a given node.\n",
    "\n",
    "\n",
    "In singly linked list, to delete a node, pointer to the previous node is needed. To get this previous node, sometimes the list is traversed. In DLL, we can get the previous node using previous pointer.\""
   ]
  },
  {
   "cell_type": "code",
   "execution_count": 2,
   "metadata": {},
   "outputs": [],
   "source": [
    "class Node(object):\n",
    "    def __init__(self, data=None, next=None, prev=None):\n",
    "        self.data = data\n",
    "        self.next = next\n",
    "        self.prev = prev"
   ]
  },
  {
   "cell_type": "code",
   "execution_count": 3,
   "metadata": {},
   "outputs": [],
   "source": [
    "n1 = Node(5)\n",
    "n2 = Node(7)"
   ]
  },
  {
   "cell_type": "code",
   "execution_count": 4,
   "metadata": {},
   "outputs": [],
   "source": [
    "n1.next_n = n2\n",
    "n2.prev_n = n1"
   ]
  },
  {
   "cell_type": "markdown",
   "metadata": {},
   "source": [
    "Insertion operations:\n",
    "\n",
    "1. At the front of the DLL\n",
    "2. After a given node.\n",
    "3. At the end of the DLL\n",
    "4. Before a given node."
   ]
  },
  {
   "cell_type": "code",
   "execution_count": 5,
   "metadata": {},
   "outputs": [],
   "source": [
    "class DblLinkList(object):\n",
    "    '''Initialize Double linked List'''\n",
    "    def __init__(self, head=None):\n",
    "        self.head = head     "
   ]
  },
  {
   "cell_type": "code",
   "execution_count": 6,
   "metadata": {},
   "outputs": [],
   "source": [
    "dll = DblLinkList()"
   ]
  },
  {
   "cell_type": "code",
   "execution_count": 9,
   "metadata": {},
   "outputs": [],
   "source": [
    "%%add_to DblLinkList      \n",
    "def length(self):\n",
    "    count = 0\n",
    "    current = self.head\n",
    "    while current:\n",
    "        count += 1\n",
    "        current = current.next\n",
    "    return count\n"
   ]
  },
  {
   "cell_type": "code",
   "execution_count": 12,
   "metadata": {},
   "outputs": [],
   "source": [
    "%%add_to DblLinkList\n",
    "def print_list(self):\n",
    "    if self.length == 0:\n",
    "        return 'the list is empty'\n",
    "    result = []\n",
    "    current = self.head\n",
    "    while current:\n",
    "        result.add(current)\n",
    "        current = current.next\n",
    "    return result"
   ]
  },
  {
   "cell_type": "code",
   "execution_count": 10,
   "metadata": {},
   "outputs": [],
   "source": [
    "%%add_to DblLinkList\n",
    "def prepend(self, val):\n",
    "    if self.length == 0:\n",
    "        self.head = val\n",
    "    else:\n",
    "        temp = self.head\n",
    "        self.head = val\n",
    "        val.prev = None\n",
    "        val.next = temp\n",
    "        temp.prev = val"
   ]
  },
  {
   "cell_type": "code",
   "execution_count": null,
   "metadata": {},
   "outputs": [],
   "source": []
  },
  {
   "cell_type": "code",
   "execution_count": null,
   "metadata": {},
   "outputs": [],
   "source": []
  }
 ],
 "metadata": {
  "kernelspec": {
   "display_name": "Python 3",
   "language": "python",
   "name": "python3"
  },
  "language_info": {
   "codemirror_mode": {
    "name": "ipython",
    "version": 3
   },
   "file_extension": ".py",
   "mimetype": "text/x-python",
   "name": "python",
   "nbconvert_exporter": "python",
   "pygments_lexer": "ipython3",
   "version": "3.6.8"
  }
 },
 "nbformat": 4,
 "nbformat_minor": 2
}
